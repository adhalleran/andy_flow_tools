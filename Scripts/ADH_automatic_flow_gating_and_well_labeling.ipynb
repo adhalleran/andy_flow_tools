{
 "cells": [
  {
   "cell_type": "code",
   "execution_count": 1,
   "metadata": {},
   "outputs": [],
   "source": [
    "# Standard imports \n",
    "import collections\n",
    "import glob\n",
    "import os\n",
    "import numpy as np\n",
    "import pandas as pd \n",
    "import matplotlib.pyplot as plt\n",
    "import seaborn as sns\n",
    "from matplotlib.backends.backend_pdf import PdfPages\n",
    "import scipy.stats as stats\n",
    "import matplotlib.pyplot as plt\n",
    "import matplotlib as mpl\n",
    "import seaborn as sns\n",
    "from cycler import cycler\n",
    "import numpy as np\n",
    "import time\n",
    "\n",
    "# Formatting to make the plots look a bit nicer. \n",
    "sns.set_context(\"talk\", font_scale=1.5, rc={\"lines.linewidth\": 3.0})\n",
    "sns.set_style(\"ticks\")\n",
    "sns.set_style({\"xtick.direction\": \"in\",\"ytick.direction\": \"in\"})\n",
    "mpl.rc('axes', prop_cycle=(cycler('color', ['r', 'k', 'b','g','y','m','c']) ))\n",
    "mpl.rc('text', usetex=False)\n",
    "#mpl.rc('font',**{'family':'sans-serif','sans-serif':['HelveticaNeueThin']})\n",
    "#plt.tick_params(top=False, bottom=False, right=False, left=False)\n",
    "tw = 1.5\n",
    "sns.set_style({\"xtick.major.size\": 6, \"ytick.major.size\": 6,\n",
    "               \"xtick.minor.size\": 4, \"ytick.minor.size\": 4,\n",
    "               'axes.labelsize': 24,\n",
    "               'xtick.major.width': tw, 'xtick.minor.width': tw,\n",
    "               'ytick.major.width': tw, 'ytick.minor.width': tw})\n",
    "\n",
    "mpl.rc('xtick', labelsize=18) \n",
    "mpl.rc('ytick', labelsize=18)\n",
    "mpl.rc('axes', linewidth=1.75)\n",
    "plt.gcf().subplots_adjust(bottom=0.15)\n",
    "sns.set_style({'axes.labelsize': 24})"
   ]
  },
  {
   "cell_type": "code",
   "execution_count": null,
   "metadata": {},
   "outputs": [],
   "source": [
    "def gate(data, firstChannel, secondChannel, lowPercentile, highPercentile):\n",
    "    \"\"\"Main function used in the script. \n",
    "    Filter (gate) cells based on a percentile gating method. This function\n",
    "    takes the intersection of cells that are within the lowPercentile and\n",
    "    highPercentile you set for both channels and returns those cells for \n",
    "    further analysis. Channel must match the channel name on your tidy data file.\"\"\"\n",
    "\n",
    "\tfirst = np.array(data[firstChannel])\n",
    "\tsecond = np.array(data[secondChannel])\n",
    "\n",
    "\tfirstLow = np.percentile(first, lowPercentile)\n",
    "\tfirstHigh = np.percentile(first, highPercentile)\n",
    "\tsecondLow = np.percentile(second, lowPercentile)\n",
    "\tsecondHigh = np.percentile(second, highPercentile)\n",
    "\n",
    "\tzipped = zip(first, second) \n",
    "\n",
    "\tgated = []\n",
    "\tungated = []\n",
    "\n",
    "\tgatingResults = []\n",
    "\tfor entry in zipped: \n",
    "\t\tif firstLow < entry[0] < firstHigh: \n",
    "\t\t\tif secondLow < entry[1] < secondHigh: \n",
    "\t\t\t\tgated.append(entry) \n",
    "\t\t\t\tgatingResults.append(1)\n",
    "\t\t\telse: \n",
    "\t\t\t\tungated.append(entry)\n",
    "\t\t\t\tgatingResults.append(0)\n",
    "\t\telse:\n",
    "\t\t\tungated.append(entry)\n",
    "\t\t\tgatingResults.append(0)\n",
    "\n",
    "\tgatingResults = np.array(gatingResults)\n",
    "\n",
    "\tdata['Gates'] = gatingResults\n",
    "\n",
    "\treturn data"
   ]
  },
  {
   "cell_type": "code",
   "execution_count": null,
   "metadata": {},
   "outputs": [],
   "source": [
    "def getGates(data, low_percentile, high_percentile, \n",
    "             first_channel='FSC-A', second_channel='SSC-A'):\n",
    "    \"\"\"It takes data, a csv file location\n",
    "    with your data in tidy format, low_percentile, your lower threshold, high_percentile,\n",
    "    your higher threshold, first_channel and second channel. The channels are defaulted to\n",
    "    FSC-A and SSC-A.\"\"\"\n",
    "\n",
    "    # Read in the data\n",
    "    df = pd.read_csv(data)\n",
    "    \n",
    "    # Get the intersection of cells on first channel and second channel.\n",
    "    gatedOutput = gate(df, first_channel, second_channel, low_percentile, high_percentile)\n",
    "    return gatedOutput"
   ]
  },
  {
   "cell_type": "code",
   "execution_count": null,
   "metadata": {},
   "outputs": [],
   "source": [
    "def plotGating(data, output_name, output_directory, lowPercentile, highPercentile,\n",
    "              first_channel='FSC-A', second_channel='SSC-A'):\n",
    "    \"\"\" This function is if you want to check what your gating looks like. \n",
    "    It is a good idea to run this a few times per dataset to make sure all of the\n",
    "    flow cytometry data looks accurate. It defaults to assume you want to gate on\n",
    "    FSC-A and SSC-A, as these are the most likely to be used for \n",
    "    \"quality assurance.\"\"\"\n",
    "    \n",
    "    df = pd.read_csv(data)\n",
    "    #mask0 = df['mKate/APC-A'] > 100\n",
    "    gatedOutput = gate(df, first_channel, second_channel,\n",
    "        lowPercentile, highPercentile)\n",
    "    mask = gatedOutput['Gates'] == 1\n",
    "    \n",
    "    plt.figure(figsize=(8,8))\n",
    "    plt.loglog(df[first_channel], df[second_channel], '.', \n",
    "        markersize=6, rasterized=True, color='k')\n",
    "    plt.loglog(gatedOutput[~mask][first_channel], gatedOutput[~mask][second_channel], '.',\n",
    "    markersize=6, rasterized=True, color='k', basex=10, basey=10)\n",
    "    plt.loglog(gatedOutput[mask][first_channel], gatedOutput[mask][second_channel], '.',\n",
    "        markersize=6, rasterized=True, color='b', basex=10, basey=10)\n",
    "    plt.ylabel(second_channel)\n",
    "    plt.xlabel(first_channel)\n",
    "    plt.savefig(output_directory + output_name + '.png')"
   ]
  },
  {
   "cell_type": "code",
   "execution_count": null,
   "metadata": {},
   "outputs": [],
   "source": [
    "def generate_csv_with_gates(file_name, output_name, plot_output_name, output_directory,\n",
    "                           low_percentile, high_percentile, first_channel, second_channel):\n",
    "    data = getGates(file_name, low_percentile, high_percentile)\n",
    "    plotGating(file_name, output_name, plot_output_name, low_percentile, high_percentile)\n",
    "    \n",
    "    # Get all of the cells that have passed gating\n",
    "    # NOTE - it's frequently a good idea to remove all cells with a negative fluorescence. \n",
    "    # This was recommended by Justin Bois, so you know that it is as good as Gospel.\n",
    "    data_gated = data.loc[(data['Gates'] == 1)]\n",
    "    \n",
    "    # Write the data to a csv \n",
    "    data_gated.to_csv(output_directory + output_name + '.csv', index=False)"
   ]
  },
  {
   "cell_type": "code",
   "execution_count": null,
   "metadata": {},
   "outputs": [],
   "source": [
    "def get_all_gates(file_directory, output_directory, plot_output_name,\n",
    "                  low_percentile, high_percentile, wells, \n",
    "                  first_channel='FSC-A', second_channel='SSC-A':\n",
    "    all_files = glob.glob(file_directory)\n",
    "    all_files.sort()\n",
    "    for i in range(0, len(all_files)):\n",
    "        generate_csv_with_gates(all_files[i], wells[i],\n",
    "                                plot_output_name, output_directory, low_percentile,\n",
    "                               high_percentile)"
   ]
  },
  {
   "cell_type": "code",
   "execution_count": 2,
   "metadata": {},
   "outputs": [],
   "source": [
    "wells = ['A01', 'B01', 'C01', 'D01', 'E01', 'F01', 'G01', 'H01',\n",
    "         'A02', 'B02', 'C02', 'D02', 'E02', 'F02', 'G02', 'H02',\n",
    "         'A03', 'B03', 'C03', 'D03', 'E03', 'F03', 'G03', 'H03',\n",
    "         'A04', 'B04', 'C04', 'D04', 'E04', 'F04', 'G04', 'H04',\n",
    "         'A05', 'B05', 'C05', 'D05', 'E05', 'F05', 'G05', 'H05',\n",
    "         'A06', 'B06', 'C06', 'D06', 'E06', 'F06', 'G06', 'H06',\n",
    "         'A07', 'B07', 'C07', 'D07', 'E07', 'F07', 'G07', 'H07',\n",
    "         'A08', 'B08', 'C08', 'D08', 'E08', 'F08', 'G08', 'H08',\n",
    "         'A09', 'B09', 'C09', 'D09', 'E09', 'F09', 'G09', 'H09',\n",
    "         'A10', 'B10', 'C10', 'D10', 'E10', 'F10', 'G10', 'H10',\n",
    "         'A11', 'B11', 'C11', 'D11', 'E11', 'F11', 'G11', 'H11',\n",
    "         'A12', 'B12', 'C12', 'D12', 'E12', 'F12', 'G12', 'H12']"
   ]
  },
  {
   "cell_type": "code",
   "execution_count": 3,
   "metadata": {},
   "outputs": [],
   "source": []
  },
  {
   "cell_type": "code",
   "execution_count": 2,
   "metadata": {},
   "outputs": [
    {
     "ename": "NameError",
     "evalue": "name 'get_all_gates' is not defined",
     "output_type": "error",
     "traceback": [
      "\u001b[0;31m---------------------------------------------------------------------------\u001b[0m",
      "\u001b[0;31mNameError\u001b[0m                                 Traceback (most recent call last)",
      "\u001b[0;32m<ipython-input-2-e57d584153db>\u001b[0m in \u001b[0;36m<module>\u001b[0;34m()\u001b[0m\n\u001b[1;32m      1\u001b[0m \u001b[0mstart\u001b[0m \u001b[0;34m=\u001b[0m \u001b[0mtime\u001b[0m\u001b[0;34m.\u001b[0m\u001b[0mtime\u001b[0m\u001b[0;34m(\u001b[0m\u001b[0;34m)\u001b[0m\u001b[0;34m\u001b[0m\u001b[0m\n\u001b[1;32m      2\u001b[0m \u001b[0;34m\u001b[0m\u001b[0m\n\u001b[0;32m----> 3\u001b[0;31m get_all_gates('../Data/Flow/181010_HCK_dif_burden_G4/tidy/*.csv',\n\u001b[0m\u001b[1;32m      4\u001b[0m               \u001b[0;34m'../Data/Flow/181010_HCK_dif_burden_G4/gated_scatter/'\u001b[0m\u001b[0;34m,\u001b[0m\u001b[0;34m\u001b[0m\u001b[0m\n\u001b[1;32m      5\u001b[0m               \u001b[0;34m'../Data/Flow/181010_HCK_dif_burden_G4/gates_scatter/'\u001b[0m\u001b[0;34m,\u001b[0m\u001b[0;34m\u001b[0m\u001b[0m\n",
      "\u001b[0;31mNameError\u001b[0m: name 'get_all_gates' is not defined"
     ]
    }
   ],
   "source": [
    "start = time.time()\n",
    "\n",
    "# Call get_all_gates by pointing to\n",
    "# 1. your tidy data location (string of file loc)\n",
    "# 2. where you want gated files to go (string of file loc)\n",
    "# 3. where you want the plots with the gates to go (string of file loc)\n",
    "# 4. low percentile (int)\n",
    "# 5. high percentile (int)\n",
    "# 6. list of wells you want to use (list of strings)\n",
    "# 7. first_channel (name must match exactly to tidy column header, str format)\n",
    "# 8. second_channel (name must match exactly to tidy column header, str format)\n",
    "get_all_gates('../Data/181010_HCK_dif_burden_G4/tidy/*.csv',\n",
    "              '../Data/181010_HCK_dif_burden_G4/gated_scatter/',\n",
    "              '../Data/181010_HCK_dif_burden_G4/gates_scatter/',\n",
    "             40, 90, wells)\n",
    "end = time.time()\n",
    "print(end-start)"
   ]
  },
  {
   "cell_type": "code",
   "execution_count": null,
   "metadata": {},
   "outputs": [],
   "source": []
  },
  {
   "cell_type": "code",
   "execution_count": null,
   "metadata": {},
   "outputs": [],
   "source": []
  },
  {
   "cell_type": "code",
   "execution_count": null,
   "metadata": {},
   "outputs": [],
   "source": []
  }
 ],
 "metadata": {
  "kernelspec": {
   "display_name": "Python [conda env:anaconda]",
   "language": "python",
   "name": "conda-env-anaconda-py"
  },
  "language_info": {
   "codemirror_mode": {
    "name": "ipython",
    "version": 3
   },
   "file_extension": ".py",
   "mimetype": "text/x-python",
   "name": "python",
   "nbconvert_exporter": "python",
   "pygments_lexer": "ipython3",
   "version": "3.5.5"
  }
 },
 "nbformat": 4,
 "nbformat_minor": 2
}
